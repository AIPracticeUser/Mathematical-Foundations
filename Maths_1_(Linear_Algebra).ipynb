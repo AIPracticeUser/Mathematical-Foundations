{
  "nbformat": 4,
  "nbformat_minor": 0,
  "metadata": {
    "colab": {
      "provenance": [],
      "authorship_tag": "ABX9TyMdH2fgu39qi1AXv5AuvUiX",
      "include_colab_link": true
    },
    "kernelspec": {
      "name": "python3",
      "display_name": "Python 3"
    },
    "language_info": {
      "name": "python"
    }
  },
  "cells": [
    {
      "cell_type": "markdown",
      "metadata": {
        "id": "view-in-github",
        "colab_type": "text"
      },
      "source": [
        "<a href=\"https://colab.research.google.com/github/AIPracticeUser/Mathematical-Foundations/blob/main/Maths_1_(Linear_Algebra).ipynb\" target=\"_parent\"><img src=\"https://colab.research.google.com/assets/colab-badge.svg\" alt=\"Open In Colab\"/></a>"
      ]
    },
    {
      "cell_type": "markdown",
      "source": [
        "Problem 1)\n",
        "- Sheriff has a car of 180km/h \n",
        "- Robber has a car of 150km/h car and 5 mins headstart\n",
        "- How long does it takes for the sheriff to catch up to the robber?\n",
        "- What distance will they have travelled at that point?"
      ],
      "metadata": {
        "id": "KXuwSZEU2xvN"
      }
    },
    {
      "cell_type": "markdown",
      "source": [
        "Solution on paper\n",
        "- Equation 1: $d=2.5t$\n",
        "- Equation 2: $d=3(t-5)$\n",
        "\n",
        "---\n",
        "\n",
        "- $2.5t = 3(t-5)$\n",
        "- $2.5t = 3t-15$\n",
        "- $2.5t-3t = -15$\n",
        "- $-0.5t = 15$\n",
        "- t = 15/0.5 = 30 mins\n",
        "- it took 30 mins for the sheriff to catch up to the robber\n",
        "\n",
        "---\n",
        "\n",
        "- $d = 2.5t = 2.5(30) = 75km $\n",
        "- $d = 3(t-5) = 3(30 - 5) = 3(25) = 75km$\n",
        "- The robber and sheriff would have travelled 75km at that point\n",
        "\n"
      ],
      "metadata": {
        "id": "kEXcFucF3PgM"
      }
    },
    {
      "cell_type": "code",
      "execution_count": null,
      "metadata": {
        "id": "s1nW1aaoyrzU"
      },
      "outputs": [],
      "source": [
        "import numpy as np\n",
        "import matplotlib.pyplot as plt"
      ]
    },
    {
      "cell_type": "code",
      "source": [
        "#Simulation to draw out time\n",
        "#Start = 0 mins\n",
        "#Stop = 40 mins, since we know sherrif catches robber at 30 mins\n",
        "\n",
        "t = np.linspace(0,40, 1000) #Start, finish, n points"
      ],
      "metadata": {
        "id": "u0hwa6LQy_XA"
      },
      "execution_count": null,
      "outputs": []
    },
    {
      "cell_type": "markdown",
      "source": [
        "Distance travelled by robber: $d=2.5t$"
      ],
      "metadata": {
        "id": "P9EYV-8Yz3yL"
      }
    },
    {
      "cell_type": "code",
      "source": [
        "d_r = 2.5 * t"
      ],
      "metadata": {
        "id": "4s01Ypwi0I86"
      },
      "execution_count": null,
      "outputs": []
    },
    {
      "cell_type": "markdown",
      "source": [
        "Distance travelled by sheriff: $d=3(t-5)$"
      ],
      "metadata": {
        "id": "p7mLesre0Uy-"
      }
    },
    {
      "cell_type": "code",
      "source": [
        "d_s = 3 * (t-5)"
      ],
      "metadata": {
        "id": "JVUo7ZnL0QEa"
      },
      "execution_count": null,
      "outputs": []
    },
    {
      "cell_type": "code",
      "source": [
        "fig, ax = plt.subplots()\n",
        "plt.title(\"A Bank Robber Caught\")\n",
        "plt.xlabel('time(in mins)')\n",
        "plt.ylabel('distance(in km)')\n",
        "plt.xlim(0,40)\n",
        "plt.ylim(0,100)\n",
        "ax.plot(t, d_r, c='green')\n",
        "ax.plot(t, d_s, c='brown')\n",
        "plt.axvline(x=30, color='purple', linestyle='--')\n",
        "plt.axhline(y=75, color='purple', linestyle='--')"
      ],
      "metadata": {
        "colab": {
          "base_uri": "https://localhost:8080/",
          "height": 312
        },
        "id": "suS5bR2X0gPK",
        "outputId": "cf6c88b4-960d-4dc3-85d6-f5a7d7270f21"
      },
      "execution_count": null,
      "outputs": [
        {
          "output_type": "execute_result",
          "data": {
            "text/plain": [
              "<matplotlib.lines.Line2D at 0x7f9e4403f250>"
            ]
          },
          "metadata": {},
          "execution_count": 22
        },
        {
          "output_type": "display_data",
          "data": {
            "text/plain": [
              "<Figure size 432x288 with 1 Axes>"
            ],
            "image/png": "[encoded data removed]"
          },
          "metadata": {
            "needs_background": "light"
          }
        }
      ]
    },
    {
      "cell_type": "markdown",
      "source": [
        "# **Problem 2)**\n",
        "\n",
        "Jill designs solar panels as hobby.\n",
        "On April 1st, Jill's \"Mark I\" design beings generating power: 1kJ/day.\n",
        "On May 1st, her \"Mark II\" design beings generating 4 kJ of power per day.\n",
        "\n",
        "1. What day is it when Jill's Mark II design has generated as much total energy as the Mark I design ?\n",
        "2. How much total energy have both generated by that day?\n",
        "3. What would the solutions to (1.) and (2.) be if Mark II design generated 1kJ of power per day?\n"
      ],
      "metadata": {
        "id": "4wfAsoXGU3xq"
      }
    },
    {
      "cell_type": "markdown",
      "source": [
        "# **Solution**\n",
        "\n",
        "- Equation 1: $e = 1t$\n",
        "- Equation 2: $e = 4(t-30)$\n",
        "---\n",
        "1)\n",
        "- $1t = 4(t-30)$\n",
        "- $1t = 4t - 120$\n",
        "- $3t = 120$\n",
        "- $ t = 40$\n",
        "- 40 days when Jill's Mark II design has generated as much total energy as Mark I design\n",
        "---\n",
        "2)\n",
        "- Mark I : $e=1t=40kJ$\n",
        "- Mark II: $e=4(t-30)=4(40)-120=160-120=40kJ$\n",
        "- Hence total energy produced is 80KJ\n",
        "---\n",
        "3) if Mark II generated 1KJ power per day, both Mark I and Mark II lines will never cross over and thus no solution."
      ],
      "metadata": {
        "id": "-bqV7y24XYqx"
      }
    },
    {
      "cell_type": "code",
      "source": [
        "import numpy as np\n",
        "import matplotlib.pyplot as plt"
      ],
      "metadata": {
        "id": "mJrTuYnl0m_M"
      },
      "execution_count": null,
      "outputs": []
    },
    {
      "cell_type": "code",
      "source": [
        "#Simulation to draw out time\n",
        "#Start = 0 day\n",
        "#Stop = 50 days, since the lines will cross at 40 days\n",
        "\n",
        "t = np.linspace(0,50, 1000) #Start, finish, n points"
      ],
      "metadata": {
        "id": "3nmNkKi7ZnQJ"
      },
      "execution_count": null,
      "outputs": []
    },
    {
      "cell_type": "markdown",
      "source": [
        "Equation 1: $e = 1t$"
      ],
      "metadata": {
        "id": "oFvnWpRpaDtA"
      }
    },
    {
      "cell_type": "code",
      "source": [
        "m_1 = 1 * t"
      ],
      "metadata": {
        "id": "xUr4x-foZ4dv"
      },
      "execution_count": null,
      "outputs": []
    },
    {
      "cell_type": "markdown",
      "source": [
        "Equation 2: $e = 4(t-30)$"
      ],
      "metadata": {
        "id": "7CB-U4qtaGGH"
      }
    },
    {
      "cell_type": "code",
      "source": [
        "m_2 = 4 * (t - 30)"
      ],
      "metadata": {
        "id": "ulYrRZVvZ_5Q"
      },
      "execution_count": null,
      "outputs": []
    },
    {
      "cell_type": "code",
      "source": [
        "fig, ax = plt.subplots()\n",
        "plt.title(\"Solar Panels Power MI vs MII\")\n",
        "plt.xlabel(\"Time(in days)\")\n",
        "plt.ylabel(\"Power(in KJ)\")\n",
        "plt.xlim(0,50)\n",
        "plt.ylim(0,100)\n",
        "ax.plot(t, m_1, color=\"green\")\n",
        "ax.plot(t, m_2, color=\"red\")\n",
        "plt.axvline(x=40, color=\"purple\", linestyle='--')\n",
        "plt.axhline(y=40, color=\"purple\", linestyle='--')"
      ],
      "metadata": {
        "colab": {
          "base_uri": "https://localhost:8080/",
          "height": 312
        },
        "id": "Xr3Y4tlvaTM2",
        "outputId": "44edcecd-d266-417c-edd9-45ec01610b41"
      },
      "execution_count": null,
      "outputs": [
        {
          "output_type": "execute_result",
          "data": {
            "text/plain": [
              "<matplotlib.lines.Line2D at 0x7f9e462eb1f0>"
            ]
          },
          "metadata": {},
          "execution_count": 40
        },
        {
          "output_type": "display_data",
          "data": {
            "text/plain": [
              "<Figure size 432x288 with 1 Axes>"
            ],
            "image/png": "[encoded data removed]"
          },
          "metadata": {
            "needs_background": "light"
          }
        }
      ]
    },
    {
      "cell_type": "code",
      "source": [],
      "metadata": {
        "id": "LMfj1HU-anCd"
      },
      "execution_count": null,
      "outputs": []
    }
  ]
}