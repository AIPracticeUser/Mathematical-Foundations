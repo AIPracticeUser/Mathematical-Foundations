{
  "nbformat": 4,
  "nbformat_minor": 0,
  "metadata": {
    "colab": {
      "provenance": [],
      "authorship_tag": "ABX9TyNHEAERSg3GV9+b9xyRG9k1",
      "include_colab_link": true
    },
    "kernelspec": {
      "name": "python3",
      "display_name": "Python 3"
    },
    "language_info": {
      "name": "python"
    }
  },
  "cells": [
    {
      "cell_type": "markdown",
      "metadata": {
        "id": "view-in-github",
        "colab_type": "text"
      },
      "source": [
        "<a href=\"https://colab.research.google.com/github/AIPracticeUser/Mathematical-Foundations/blob/main/Maths_2_(Scalars%2C_Vectors%2C_Matrices).ipynb\" target=\"_parent\"><img src=\"https://colab.research.google.com/assets/colab-badge.svg\" alt=\"Open In Colab\"/></a>"
      ]
    },
    {
      "cell_type": "markdown",
      "source": [
        "# Scalars (Rank 0 Tensors)"
      ],
      "metadata": {
        "id": "QyK1MjHHHSpW"
      }
    },
    {
      "cell_type": "code",
      "execution_count": 1,
      "metadata": {
        "colab": {
          "base_uri": "https://localhost:8080/"
        },
        "id": "ADDZl21jHIS2",
        "outputId": "02075639-2773-412d-e236-8a4e215b3073"
      },
      "outputs": [
        {
          "output_type": "execute_result",
          "data": {
            "text/plain": [
              "25"
            ]
          },
          "metadata": {},
          "execution_count": 1
        }
      ],
      "source": [
        "x = 25\n",
        "x"
      ]
    },
    {
      "cell_type": "code",
      "source": [
        "type(x) #If want to use specific like int16, need Numpy "
      ],
      "metadata": {
        "colab": {
          "base_uri": "https://localhost:8080/"
        },
        "id": "yR8AcXOpHmGr",
        "outputId": "358b9440-8c3e-4db1-b401-9172c6bc12e6"
      },
      "execution_count": 2,
      "outputs": [
        {
          "output_type": "execute_result",
          "data": {
            "text/plain": [
              "int"
            ]
          },
          "metadata": {},
          "execution_count": 2
        }
      ]
    },
    {
      "cell_type": "code",
      "source": [
        "y = 3"
      ],
      "metadata": {
        "id": "t2AE8R_PH0zb"
      },
      "execution_count": 3,
      "outputs": []
    },
    {
      "cell_type": "code",
      "source": [
        "py_sum = x + y"
      ],
      "metadata": {
        "id": "XRCnxBh4H1-Z"
      },
      "execution_count": 4,
      "outputs": []
    },
    {
      "cell_type": "code",
      "source": [
        "type(py_sum)"
      ],
      "metadata": {
        "colab": {
          "base_uri": "https://localhost:8080/"
        },
        "id": "y9exehYvH6DR",
        "outputId": "54c8adbd-f279-447e-b439-699fef948627"
      },
      "execution_count": 5,
      "outputs": [
        {
          "output_type": "execute_result",
          "data": {
            "text/plain": [
              "int"
            ]
          },
          "metadata": {},
          "execution_count": 5
        }
      ]
    },
    {
      "cell_type": "code",
      "source": [
        "x_float = 25.0\n",
        "float_sum = x_float + y\n",
        "float_sum"
      ],
      "metadata": {
        "colab": {
          "base_uri": "https://localhost:8080/"
        },
        "id": "Hd-ywcO1H9RD",
        "outputId": "4d1f37ea-d979-431e-fe75-da2225af009f"
      },
      "execution_count": 6,
      "outputs": [
        {
          "output_type": "execute_result",
          "data": {
            "text/plain": [
              "28.0"
            ]
          },
          "metadata": {},
          "execution_count": 6
        }
      ]
    },
    {
      "cell_type": "code",
      "source": [
        "type(float_sum)"
      ],
      "metadata": {
        "colab": {
          "base_uri": "https://localhost:8080/"
        },
        "id": "1cL-oxZdIdSp",
        "outputId": "c76bc403-29be-46bd-d241-ac67e7ab5ec5"
      },
      "execution_count": 7,
      "outputs": [
        {
          "output_type": "execute_result",
          "data": {
            "text/plain": [
              "float"
            ]
          },
          "metadata": {},
          "execution_count": 7
        }
      ]
    },
    {
      "cell_type": "markdown",
      "source": [
        "## Scalars in PyTorch\n",
        "\n",
        "- PyTorch and TensorFlow are the two most popular automatic differentiation librarie in Python, itself the most popular programming language in ML\n",
        "- PyTorch tensors are designed to be pythonic, i.e., to feel and behave like NumPy arrays\n",
        "- The advantage of PyTorch tensors relative to NumPy arrays is that they easily be used for operations on GPU \n"
      ],
      "metadata": {
        "id": "vz72adtYJeIa"
      }
    },
    {
      "cell_type": "code",
      "source": [
        "import torch"
      ],
      "metadata": {
        "id": "w8P_rWOoIffY"
      },
      "execution_count": 8,
      "outputs": []
    },
    {
      "cell_type": "code",
      "source": [
        "x_pt = torch.tensor(25, dtype=torch.float16) #type specification optional, e.g.: dtype=torch.float16\n",
        "x_pt"
      ],
      "metadata": {
        "colab": {
          "base_uri": "https://localhost:8080/"
        },
        "id": "YB6MJTnUKHO5",
        "outputId": "3c56102c-5ab1-4ffc-fccc-753c88f9f1b5"
      },
      "execution_count": 9,
      "outputs": [
        {
          "output_type": "execute_result",
          "data": {
            "text/plain": [
              "tensor(25., dtype=torch.float16)"
            ]
          },
          "metadata": {},
          "execution_count": 9
        }
      ]
    },
    {
      "cell_type": "code",
      "source": [
        "x_pt.shape #Scalars has no dimensions"
      ],
      "metadata": {
        "colab": {
          "base_uri": "https://localhost:8080/"
        },
        "id": "XBvem4C9KQwi",
        "outputId": "d5e513a3-e996-4a68-c85a-95f578837abf"
      },
      "execution_count": 10,
      "outputs": [
        {
          "output_type": "execute_result",
          "data": {
            "text/plain": [
              "torch.Size([])"
            ]
          },
          "metadata": {},
          "execution_count": 10
        }
      ]
    },
    {
      "cell_type": "markdown",
      "source": [
        "# Scalars in TensorFlow \n",
        "Tensors created with a wrapper\n",
        "Documentation : https://www.tensorflow.org/guide/tensor\n",
        "\n",
        "- tf.Variable\n",
        "- tf.constant\n",
        "- tf.placeholder\n",
        "- tf.SparseTensor\n",
        "Most widely-used is tf.Variable, which we'll use here.\n",
        "\n",
        "As with TF tensors, in PyTorch we can similarly perform operations, and we can easily convert to and from NumPy arrays\n",
        "\n",
        "Full list of tensor data types: https://www.tensorflow.org/api_docs/python/tf/dtypes/DType"
      ],
      "metadata": {
        "id": "LhhdMiYRK1Ba"
      }
    },
    {
      "cell_type": "code",
      "source": [
        "import tensorflow as tf"
      ],
      "metadata": {
        "id": "ELFy2ccwLWDk"
      },
      "execution_count": 11,
      "outputs": []
    },
    {
      "cell_type": "code",
      "source": [
        "x_tf = tf.Variable(25, dtype=tf.int16) #dtype is optional\n",
        "x_tf"
      ],
      "metadata": {
        "colab": {
          "base_uri": "https://localhost:8080/"
        },
        "id": "jWE9QHsCLgEa",
        "outputId": "979006f6-6f68-4f1e-f0b5-2054e9e61459"
      },
      "execution_count": 12,
      "outputs": [
        {
          "output_type": "execute_result",
          "data": {
            "text/plain": [
              "<tf.Variable 'Variable:0' shape=() dtype=int16, numpy=25>"
            ]
          },
          "metadata": {},
          "execution_count": 12
        }
      ]
    },
    {
      "cell_type": "code",
      "source": [
        "x_tf.shape #Also shows 0 dimensions"
      ],
      "metadata": {
        "colab": {
          "base_uri": "https://localhost:8080/"
        },
        "id": "35T2qrMkLqHt",
        "outputId": "5f5a70d3-fff3-4fb9-9299-ead829f91027"
      },
      "execution_count": 13,
      "outputs": [
        {
          "output_type": "execute_result",
          "data": {
            "text/plain": [
              "TensorShape([])"
            ]
          },
          "metadata": {},
          "execution_count": 13
        }
      ]
    },
    {
      "cell_type": "code",
      "source": [
        "y_tf = tf.Variable(3, dtype=tf.int16)"
      ],
      "metadata": {
        "id": "0WP7-7_kLvQ1"
      },
      "execution_count": 14,
      "outputs": []
    },
    {
      "cell_type": "code",
      "source": [
        "x_tf + y_tf"
      ],
      "metadata": {
        "colab": {
          "base_uri": "https://localhost:8080/"
        },
        "id": "rUzf0M-5MCMG",
        "outputId": "c6d14966-18b1-40dd-d441-6e489fb1c441"
      },
      "execution_count": 15,
      "outputs": [
        {
          "output_type": "execute_result",
          "data": {
            "text/plain": [
              "<tf.Tensor: shape=(), dtype=int16, numpy=28>"
            ]
          },
          "metadata": {},
          "execution_count": 15
        }
      ]
    },
    {
      "cell_type": "code",
      "source": [
        "tf_sum = tf.add(x_tf, y_tf) #Same operation as above\n",
        "tf_sum"
      ],
      "metadata": {
        "colab": {
          "base_uri": "https://localhost:8080/"
        },
        "id": "RBAmU_NRMF2B",
        "outputId": "cd4ed828-e046-4fb4-bd89-b35abff3598f"
      },
      "execution_count": 16,
      "outputs": [
        {
          "output_type": "execute_result",
          "data": {
            "text/plain": [
              "<tf.Tensor: shape=(), dtype=int16, numpy=28>"
            ]
          },
          "metadata": {},
          "execution_count": 16
        }
      ]
    },
    {
      "cell_type": "code",
      "source": [
        "tf_sum.numpy() # note that Numpy operations automatically convert tensors to Numpy arrays and vice versas"
      ],
      "metadata": {
        "colab": {
          "base_uri": "https://localhost:8080/"
        },
        "id": "qvIpVS5rM3gB",
        "outputId": "d146ad83-7a9c-4ddc-93e9-fd7a12587e4b"
      },
      "execution_count": 17,
      "outputs": [
        {
          "output_type": "execute_result",
          "data": {
            "text/plain": [
              "28"
            ]
          },
          "metadata": {},
          "execution_count": 17
        }
      ]
    },
    {
      "cell_type": "code",
      "source": [
        "type(tf_sum.numpy())"
      ],
      "metadata": {
        "colab": {
          "base_uri": "https://localhost:8080/"
        },
        "id": "7jEbVdciNEWV",
        "outputId": "bce32529-640d-4748-d92f-736c9eaafd5a"
      },
      "execution_count": 18,
      "outputs": [
        {
          "output_type": "execute_result",
          "data": {
            "text/plain": [
              "numpy.int16"
            ]
          },
          "metadata": {},
          "execution_count": 18
        }
      ]
    },
    {
      "cell_type": "code",
      "source": [
        "tf_float = tf.Variable(25, dtype=tf.float16)\n",
        "tf_float"
      ],
      "metadata": {
        "colab": {
          "base_uri": "https://localhost:8080/"
        },
        "id": "OHoqQYpiNP6M",
        "outputId": "729d7c6d-6804-4143-9709-8b74c177882a"
      },
      "execution_count": 19,
      "outputs": [
        {
          "output_type": "execute_result",
          "data": {
            "text/plain": [
              "<tf.Variable 'Variable:0' shape=() dtype=float16, numpy=25.0>"
            ]
          },
          "metadata": {},
          "execution_count": 19
        }
      ]
    },
    {
      "cell_type": "markdown",
      "source": [
        "## Vectors (Rank 1 Tensors) in NumPy"
      ],
      "metadata": {
        "id": "OwW-pl7iO0Ib"
      }
    },
    {
      "cell_type": "code",
      "source": [
        "import numpy as np"
      ],
      "metadata": {
        "id": "1RnN2RL7NnLc"
      },
      "execution_count": 20,
      "outputs": []
    },
    {
      "cell_type": "code",
      "source": [
        "x = np.array([25, 2, 5]) #type argument is optional, eg: dtype=np.float16\n",
        "x"
      ],
      "metadata": {
        "colab": {
          "base_uri": "https://localhost:8080/"
        },
        "id": "xCGKwZZTO6l2",
        "outputId": "985017a0-8e57-4b21-e302-d743ecedd5b0"
      },
      "execution_count": 21,
      "outputs": [
        {
          "output_type": "execute_result",
          "data": {
            "text/plain": [
              "array([25,  2,  5])"
            ]
          },
          "metadata": {},
          "execution_count": 21
        }
      ]
    },
    {
      "cell_type": "code",
      "source": [
        "type(x)"
      ],
      "metadata": {
        "colab": {
          "base_uri": "https://localhost:8080/"
        },
        "id": "ta8E0XbAQBJU",
        "outputId": "f0cc2c9a-b57c-44e3-f02a-e0b006f79cfe"
      },
      "execution_count": 22,
      "outputs": [
        {
          "output_type": "execute_result",
          "data": {
            "text/plain": [
              "numpy.ndarray"
            ]
          },
          "metadata": {},
          "execution_count": 22
        }
      ]
    },
    {
      "cell_type": "code",
      "source": [
        "type(x[0]) #all individual numbers in the array is int64"
      ],
      "metadata": {
        "colab": {
          "base_uri": "https://localhost:8080/"
        },
        "id": "OPP5gdTBPYKw",
        "outputId": "229da17a-e78d-4518-f222-bfe675a9cae2"
      },
      "execution_count": 23,
      "outputs": [
        {
          "output_type": "execute_result",
          "data": {
            "text/plain": [
              "numpy.int64"
            ]
          },
          "metadata": {},
          "execution_count": 23
        }
      ]
    },
    {
      "cell_type": "code",
      "source": [
        "x = np.array([25, 2, 5], dtype=np.float16)\n",
        "x"
      ],
      "metadata": {
        "colab": {
          "base_uri": "https://localhost:8080/"
        },
        "id": "q6BoGZvmPhnz",
        "outputId": "3f534c31-20f2-44c9-d940-289cd2e27246"
      },
      "execution_count": 24,
      "outputs": [
        {
          "output_type": "execute_result",
          "data": {
            "text/plain": [
              "array([25.,  2.,  5.], dtype=float16)"
            ]
          },
          "metadata": {},
          "execution_count": 24
        }
      ]
    },
    {
      "cell_type": "code",
      "source": [
        "type(x[0]) #change to float16"
      ],
      "metadata": {
        "colab": {
          "base_uri": "https://localhost:8080/"
        },
        "id": "LmCLBTE3PmX9",
        "outputId": "1fcc6566-280f-48d2-9fab-34e8b7058d2a"
      },
      "execution_count": 25,
      "outputs": [
        {
          "output_type": "execute_result",
          "data": {
            "text/plain": [
              "numpy.float16"
            ]
          },
          "metadata": {},
          "execution_count": 25
        }
      ]
    },
    {
      "cell_type": "code",
      "source": [
        "len(x)"
      ],
      "metadata": {
        "colab": {
          "base_uri": "https://localhost:8080/"
        },
        "id": "mF_D0rthP5kN",
        "outputId": "ff6ca89f-c461-4e50-bcc6-ab9e1b22caef"
      },
      "execution_count": 26,
      "outputs": [
        {
          "output_type": "execute_result",
          "data": {
            "text/plain": [
              "3"
            ]
          },
          "metadata": {},
          "execution_count": 26
        }
      ]
    },
    {
      "cell_type": "code",
      "source": [
        "x.shape"
      ],
      "metadata": {
        "colab": {
          "base_uri": "https://localhost:8080/"
        },
        "id": "kTbN2ifGP9CX",
        "outputId": "7d31280c-0116-408c-8e2f-498c8fc3e9e6"
      },
      "execution_count": 27,
      "outputs": [
        {
          "output_type": "execute_result",
          "data": {
            "text/plain": [
              "(3,)"
            ]
          },
          "metadata": {},
          "execution_count": 27
        }
      ]
    },
    {
      "cell_type": "markdown",
      "source": [
        "## Vector Transposition"
      ],
      "metadata": {
        "id": "RglRBNlzQIeh"
      }
    },
    {
      "cell_type": "code",
      "source": [
        "# Transposing a regular 1-D array has no effect\n",
        "x_t = x.T\n",
        "x_t"
      ],
      "metadata": {
        "colab": {
          "base_uri": "https://localhost:8080/"
        },
        "id": "8pcFX1A1QLuQ",
        "outputId": "b9af41e8-4f54-4159-d25a-24900a15f0dd"
      },
      "execution_count": 28,
      "outputs": [
        {
          "output_type": "execute_result",
          "data": {
            "text/plain": [
              "array([25.,  2.,  5.], dtype=float16)"
            ]
          },
          "metadata": {},
          "execution_count": 28
        }
      ]
    },
    {
      "cell_type": "code",
      "source": [
        "x_t.shape"
      ],
      "metadata": {
        "colab": {
          "base_uri": "https://localhost:8080/"
        },
        "id": "_g-YDipQQY5B",
        "outputId": "b6e301b9-407e-4325-a0b6-85211975cba4"
      },
      "execution_count": 29,
      "outputs": [
        {
          "output_type": "execute_result",
          "data": {
            "text/plain": [
              "(3,)"
            ]
          },
          "metadata": {},
          "execution_count": 29
        }
      ]
    },
    {
      "cell_type": "code",
      "source": [
        "# however, if we use nested matrix-style brackets, it chnages\n",
        "y = np.array([[25,2,5]])\n",
        "y"
      ],
      "metadata": {
        "colab": {
          "base_uri": "https://localhost:8080/"
        },
        "id": "3OPIHB1VQhRb",
        "outputId": "4178c651-b568-405a-eb98-4f067f7694a8"
      },
      "execution_count": 30,
      "outputs": [
        {
          "output_type": "execute_result",
          "data": {
            "text/plain": [
              "array([[25,  2,  5]])"
            ]
          },
          "metadata": {},
          "execution_count": 30
        }
      ]
    },
    {
      "cell_type": "code",
      "source": [
        "y.shape # it becomes a 2-dimensional"
      ],
      "metadata": {
        "colab": {
          "base_uri": "https://localhost:8080/"
        },
        "id": "ITtC2r_zQxiJ",
        "outputId": "58631730-7011-4c64-f367-6bc7ec6d9b92"
      },
      "execution_count": 31,
      "outputs": [
        {
          "output_type": "execute_result",
          "data": {
            "text/plain": [
              "(1, 3)"
            ]
          },
          "metadata": {},
          "execution_count": 31
        }
      ]
    },
    {
      "cell_type": "code",
      "source": [
        "# can transpose a matrix with a dimension of length 1, which is mathemtically eqivalent:\n",
        "y_t = y.T\n",
        "y_t"
      ],
      "metadata": {
        "colab": {
          "base_uri": "https://localhost:8080/"
        },
        "id": "TzJLN1Z4Q_18",
        "outputId": "f75ed0c3-31c5-4816-bfc3-c351effef6fd"
      },
      "execution_count": 32,
      "outputs": [
        {
          "output_type": "execute_result",
          "data": {
            "text/plain": [
              "array([[25],\n",
              "       [ 2],\n",
              "       [ 5]])"
            ]
          },
          "metadata": {},
          "execution_count": 32
        }
      ]
    },
    {
      "cell_type": "code",
      "source": [
        "y_t.shape #this is now a column vector as it has 3 rows and 1 column"
      ],
      "metadata": {
        "colab": {
          "base_uri": "https://localhost:8080/"
        },
        "id": "UsTNY_X8RMEx",
        "outputId": "3d45f19e-8de2-4222-f640-aaacd9ffd81b"
      },
      "execution_count": 33,
      "outputs": [
        {
          "output_type": "execute_result",
          "data": {
            "text/plain": [
              "(3, 1)"
            ]
          },
          "metadata": {},
          "execution_count": 33
        }
      ]
    },
    {
      "cell_type": "code",
      "source": [
        "# Reverse back to its original form\n",
        "y_t.T"
      ],
      "metadata": {
        "colab": {
          "base_uri": "https://localhost:8080/"
        },
        "id": "dWWahp1fSGRM",
        "outputId": "c01a1921-74cb-409b-8623-61ec9e6690d3"
      },
      "execution_count": 34,
      "outputs": [
        {
          "output_type": "execute_result",
          "data": {
            "text/plain": [
              "array([[25,  2,  5]])"
            ]
          },
          "metadata": {},
          "execution_count": 34
        }
      ]
    },
    {
      "cell_type": "code",
      "source": [
        "y_t.T.shape"
      ],
      "metadata": {
        "colab": {
          "base_uri": "https://localhost:8080/"
        },
        "id": "OFZR1nvlSNE1",
        "outputId": "a14c5789-109b-4275-8fa0-2cffd3f8ba59"
      },
      "execution_count": 35,
      "outputs": [
        {
          "output_type": "execute_result",
          "data": {
            "text/plain": [
              "(1, 3)"
            ]
          },
          "metadata": {},
          "execution_count": 35
        }
      ]
    },
    {
      "cell_type": "markdown",
      "source": [
        "## Zero Vectors\n",
        "\n",
        "Have no effect if added to another vector"
      ],
      "metadata": {
        "id": "AudVsgMvSY5B"
      }
    },
    {
      "cell_type": "code",
      "source": [
        "z = np.zeros(3)\n",
        "z"
      ],
      "metadata": {
        "colab": {
          "base_uri": "https://localhost:8080/"
        },
        "id": "VqyY399GSUzX",
        "outputId": "ee27f87c-74db-4a52-ba9c-3a952ac2242c"
      },
      "execution_count": 36,
      "outputs": [
        {
          "output_type": "execute_result",
          "data": {
            "text/plain": [
              "array([0., 0., 0.])"
            ]
          },
          "metadata": {},
          "execution_count": 36
        }
      ]
    },
    {
      "cell_type": "markdown",
      "source": [
        "## Vectors in PyTorch and TensorFlow"
      ],
      "metadata": {
        "id": "cXYDE-DiSr7A"
      }
    },
    {
      "cell_type": "code",
      "source": [
        "x_pt = torch.tensor([25,2,5]) #PyTorch\n",
        "x_pt"
      ],
      "metadata": {
        "colab": {
          "base_uri": "https://localhost:8080/"
        },
        "id": "M0-tqz6hSjSQ",
        "outputId": "a39faa13-de1f-46f5-f66e-167d72e006de"
      },
      "execution_count": 37,
      "outputs": [
        {
          "output_type": "execute_result",
          "data": {
            "text/plain": [
              "tensor([25,  2,  5])"
            ]
          },
          "metadata": {},
          "execution_count": 37
        }
      ]
    },
    {
      "cell_type": "code",
      "source": [
        "x_tf = tf.Variable([25,2,5]) #TensorFlow\n",
        "x_tf"
      ],
      "metadata": {
        "colab": {
          "base_uri": "https://localhost:8080/"
        },
        "id": "CO2wUeT6S02n",
        "outputId": "d82bb42e-3cae-45eb-8b37-3a89eceb8f5d"
      },
      "execution_count": 38,
      "outputs": [
        {
          "output_type": "execute_result",
          "data": {
            "text/plain": [
              "<tf.Variable 'Variable:0' shape=(3,) dtype=int32, numpy=array([25,  2,  5], dtype=int32)>"
            ]
          },
          "metadata": {},
          "execution_count": 38
        }
      ]
    },
    {
      "cell_type": "markdown",
      "source": [
        "##$L^2$ Norm"
      ],
      "metadata": {
        "id": "ZwmRU00-TliA"
      }
    },
    {
      "cell_type": "code",
      "source": [
        "x = np.array([25, 2, 5]) #type argument is optional, eg: dtype=np.float16\n",
        "x"
      ],
      "metadata": {
        "colab": {
          "base_uri": "https://localhost:8080/"
        },
        "id": "cB_WeDeiS8tI",
        "outputId": "b6e786e8-d533-4457-cc09-e460cda30ccd"
      },
      "execution_count": 39,
      "outputs": [
        {
          "output_type": "execute_result",
          "data": {
            "text/plain": [
              "array([25,  2,  5])"
            ]
          },
          "metadata": {},
          "execution_count": 39
        }
      ]
    },
    {
      "cell_type": "code",
      "source": [
        "#Applying Forumula\n",
        "#1. Square all elements in the vectors\n",
        "#2. Sum them up\n",
        "#3. Square of the sum (represent by **(1/2))\n",
        "(25**2 + 2** 2 + 5**2) ** (1/2)"
      ],
      "metadata": {
        "colab": {
          "base_uri": "https://localhost:8080/"
        },
        "id": "a58IPM-4XE1_",
        "outputId": "033e9610-6f6c-4667-dafc-4feba795def8"
      },
      "execution_count": 40,
      "outputs": [
        {
          "output_type": "execute_result",
          "data": {
            "text/plain": [
              "25.573423705088842"
            ]
          },
          "metadata": {},
          "execution_count": 40
        }
      ]
    },
    {
      "cell_type": "markdown",
      "source": [
        "This gives us a Euclidean distance of 25.57 from origin [0, 0, 0] to [25,2,5] coordinates "
      ],
      "metadata": {
        "id": "IziG2FJnYOkp"
      }
    },
    {
      "cell_type": "code",
      "source": [
        "#Instead of writing the equation, can use numpy built in library to calculate\n",
        "np.linalg.norm(x)"
      ],
      "metadata": {
        "colab": {
          "base_uri": "https://localhost:8080/"
        },
        "id": "ZkUpSVV-X4EP",
        "outputId": "7f1a9f54-c68d-455b-f900-266de1d1c520"
      },
      "execution_count": 41,
      "outputs": [
        {
          "output_type": "execute_result",
          "data": {
            "text/plain": [
              "25.573423705088842"
            ]
          },
          "metadata": {},
          "execution_count": 41
        }
      ]
    },
    {
      "cell_type": "markdown",
      "source": [
        "So, it units in this 3-dimensional vector space are meters, then the vector $x$ has a length of 25.6m"
      ],
      "metadata": {
        "id": "_-myHKLyYzNW"
      }
    },
    {
      "cell_type": "markdown",
      "source": [
        "$L^1$ Norm\n",
        "- Used whenever difference between zero and non-zero is key"
      ],
      "metadata": {
        "id": "L4EPsRYXZ9lh"
      }
    },
    {
      "cell_type": "code",
      "source": [
        "x"
      ],
      "metadata": {
        "colab": {
          "base_uri": "https://localhost:8080/"
        },
        "id": "7RtQKt_NYx_V",
        "outputId": "50c4ec5e-2bb9-46b2-d88a-5138d6bdb322"
      },
      "execution_count": 42,
      "outputs": [
        {
          "output_type": "execute_result",
          "data": {
            "text/plain": [
              "array([25,  2,  5])"
            ]
          },
          "metadata": {},
          "execution_count": 42
        }
      ]
    },
    {
      "cell_type": "code",
      "source": [
        "np.abs(25) + np.abs(2) + np.abs(5) #Difference result from L1 norm against L2 norm"
      ],
      "metadata": {
        "colab": {
          "base_uri": "https://localhost:8080/"
        },
        "id": "TZOSkEdOanB_",
        "outputId": "aecfef3e-fe6d-4015-a6a4-da681bca6de5"
      },
      "execution_count": 43,
      "outputs": [
        {
          "output_type": "execute_result",
          "data": {
            "text/plain": [
              "32"
            ]
          },
          "metadata": {},
          "execution_count": 43
        }
      ]
    },
    {
      "cell_type": "markdown",
      "source": [
        "Squared $L^2$ Norm"
      ],
      "metadata": {
        "id": "axV57JLBcDkO"
      }
    },
    {
      "cell_type": "code",
      "source": [
        "x"
      ],
      "metadata": {
        "colab": {
          "base_uri": "https://localhost:8080/"
        },
        "id": "UTrMRCRhasL5",
        "outputId": "1ea074b9-3907-4448-a3e7-8bd77128145a"
      },
      "execution_count": 44,
      "outputs": [
        {
          "output_type": "execute_result",
          "data": {
            "text/plain": [
              "array([25,  2,  5])"
            ]
          },
          "metadata": {},
          "execution_count": 44
        }
      ]
    },
    {
      "cell_type": "code",
      "source": [
        "#Same as L2 norm forumla but without the square root\n",
        "(25**2 + 2** 2 + 5**2)"
      ],
      "metadata": {
        "colab": {
          "base_uri": "https://localhost:8080/"
        },
        "id": "dcuiNnx3cJl3",
        "outputId": "d1113c4d-e592-41dc-fafc-612b4b9759fb"
      },
      "execution_count": 45,
      "outputs": [
        {
          "output_type": "execute_result",
          "data": {
            "text/plain": [
              "654"
            ]
          },
          "metadata": {},
          "execution_count": 45
        }
      ]
    },
    {
      "cell_type": "markdown",
      "source": [
        "Tensor multiplication $(x^tx)$is equal to L2 norm"
      ],
      "metadata": {
        "id": "CZsDxqpSc1-W"
      }
    },
    {
      "cell_type": "code",
      "source": [
        "np.dot(x, x)"
      ],
      "metadata": {
        "colab": {
          "base_uri": "https://localhost:8080/"
        },
        "id": "JDHTp3y-cTc7",
        "outputId": "3e6b8b35-6cae-406f-f305-695066b73a7f"
      },
      "execution_count": 46,
      "outputs": [
        {
          "output_type": "execute_result",
          "data": {
            "text/plain": [
              "654"
            ]
          },
          "metadata": {},
          "execution_count": 46
        }
      ]
    },
    {
      "cell_type": "markdown",
      "source": [
        "Max Norm"
      ],
      "metadata": {
        "id": "VEYTpPWkdZr-"
      }
    },
    {
      "cell_type": "code",
      "source": [
        "x"
      ],
      "metadata": {
        "colab": {
          "base_uri": "https://localhost:8080/"
        },
        "id": "7RQn5PmpdGCM",
        "outputId": "b87c59da-dbdc-44cd-c24f-64208c90182c"
      },
      "execution_count": 47,
      "outputs": [
        {
          "output_type": "execute_result",
          "data": {
            "text/plain": [
              "array([25,  2,  5])"
            ]
          },
          "metadata": {},
          "execution_count": 47
        }
      ]
    },
    {
      "cell_type": "code",
      "source": [
        "#Apply the forum of Max Norm\n",
        "#1. Take the absolute value of each element in the array\n",
        "#2. Take the Max value found, 25 in this case\n",
        "np.max([np.abs(25), np.abs(2), np.abs(5)])"
      ],
      "metadata": {
        "colab": {
          "base_uri": "https://localhost:8080/"
        },
        "id": "RS4tBdSadbGi",
        "outputId": "b4e60ebe-76cd-4da6-95cf-e8cdf841e3dd"
      },
      "execution_count": 48,
      "outputs": [
        {
          "output_type": "execute_result",
          "data": {
            "text/plain": [
              "25"
            ]
          },
          "metadata": {},
          "execution_count": 48
        }
      ]
    },
    {
      "cell_type": "markdown",
      "source": [
        "# Basis Vectors\n",
        "- Can be scaled to represent any vector in a given vector space\n",
        "- Typically use unit vectors along axes of vector space\n",
        "\n",
        "#Orthogonal Vectors\n",
        "- x and y are orthogonal vectors if $x^Ty=0$\n",
        "- 90 degrees angle to each other (assuming non-zero norms)\n",
        "- n-dimensional space has max n mutally orthogonal vectors"
      ],
      "metadata": {
        "id": "0YBCp7TW6rBG"
      }
    },
    {
      "cell_type": "code",
      "source": [
        "i = np.array([1,0])\n",
        "i"
      ],
      "metadata": {
        "colab": {
          "base_uri": "https://localhost:8080/"
        },
        "id": "HBAV5n3BdiYu",
        "outputId": "bb24c92d-e112-46bb-c2db-c18a7f7ef43f"
      },
      "execution_count": 49,
      "outputs": [
        {
          "output_type": "execute_result",
          "data": {
            "text/plain": [
              "array([1, 0])"
            ]
          },
          "metadata": {},
          "execution_count": 49
        }
      ]
    },
    {
      "cell_type": "code",
      "source": [
        "j = np.array([0,1])\n",
        "j"
      ],
      "metadata": {
        "colab": {
          "base_uri": "https://localhost:8080/"
        },
        "id": "1ZqRX8VH679j",
        "outputId": "eb04d493-53ca-45d7-f986-a0326eb6ee2d"
      },
      "execution_count": 50,
      "outputs": [
        {
          "output_type": "execute_result",
          "data": {
            "text/plain": [
              "array([0, 1])"
            ]
          },
          "metadata": {},
          "execution_count": 50
        }
      ]
    },
    {
      "cell_type": "code",
      "source": [
        "np.dot(i,j) # Dot Operation of Numpy"
      ],
      "metadata": {
        "colab": {
          "base_uri": "https://localhost:8080/"
        },
        "id": "djwTIoTd6_Iz",
        "outputId": "89640fc4-5164-46a0-a229-cbf1c18067ec"
      },
      "execution_count": 51,
      "outputs": [
        {
          "output_type": "execute_result",
          "data": {
            "text/plain": [
              "0"
            ]
          },
          "metadata": {},
          "execution_count": 51
        }
      ]
    },
    {
      "cell_type": "markdown",
      "source": [
        "# Matrices (Rank 2 Tensors) in Numpy\n",
        "- Two-dimensional array of numbers\n",
        "- if X has 3 rows and 2 columns, shape is (3,2)"
      ],
      "metadata": {
        "id": "sOxeGLrU_wAI"
      }
    },
    {
      "cell_type": "code",
      "source": [
        "# Use array() with nested brackets:\n",
        "X = np.array([[25,2], [5,26], [3,7]])\n",
        "X"
      ],
      "metadata": {
        "colab": {
          "base_uri": "https://localhost:8080/"
        },
        "id": "G_R6g-Tf__55",
        "outputId": "54446ab4-722e-4b2b-b29b-891c58479b1e"
      },
      "execution_count": 52,
      "outputs": [
        {
          "output_type": "execute_result",
          "data": {
            "text/plain": [
              "array([[25,  2],\n",
              "       [ 5, 26],\n",
              "       [ 3,  7]])"
            ]
          },
          "metadata": {},
          "execution_count": 52
        }
      ]
    },
    {
      "cell_type": "code",
      "source": [
        "X.shape #3 rows, 2 columns"
      ],
      "metadata": {
        "colab": {
          "base_uri": "https://localhost:8080/"
        },
        "id": "DMciBdmdAW6t",
        "outputId": "77b58945-5c5c-4406-9226-01e8b37f2667"
      },
      "execution_count": 53,
      "outputs": [
        {
          "output_type": "execute_result",
          "data": {
            "text/plain": [
              "(3, 2)"
            ]
          },
          "metadata": {},
          "execution_count": 53
        }
      ]
    },
    {
      "cell_type": "code",
      "source": [
        "X.size #no of element in the array"
      ],
      "metadata": {
        "colab": {
          "base_uri": "https://localhost:8080/"
        },
        "id": "c45ox2FxAZPj",
        "outputId": "5074b1f1-b3bd-470e-e469-0267e5160d20"
      },
      "execution_count": 54,
      "outputs": [
        {
          "output_type": "execute_result",
          "data": {
            "text/plain": [
              "6"
            ]
          },
          "metadata": {},
          "execution_count": 54
        }
      ]
    },
    {
      "cell_type": "code",
      "source": [
        "# Select left colum of matrix X (zero-indexed)\n",
        "X[:,0]"
      ],
      "metadata": {
        "colab": {
          "base_uri": "https://localhost:8080/"
        },
        "id": "adccxapCAalH",
        "outputId": "0a39c410-99be-4985-a611-e0c2e8ade4dd"
      },
      "execution_count": 55,
      "outputs": [
        {
          "output_type": "execute_result",
          "data": {
            "text/plain": [
              "array([25,  5,  3])"
            ]
          },
          "metadata": {},
          "execution_count": 55
        }
      ]
    },
    {
      "cell_type": "code",
      "source": [
        "# Select middle row of matrix X\n",
        "X[1,:]"
      ],
      "metadata": {
        "colab": {
          "base_uri": "https://localhost:8080/"
        },
        "id": "WkL7aCgSA7U5",
        "outputId": "3b5333cd-196d-4810-84ac-ca01c2926fcf"
      },
      "execution_count": 56,
      "outputs": [
        {
          "output_type": "execute_result",
          "data": {
            "text/plain": [
              "array([ 5, 26])"
            ]
          },
          "metadata": {},
          "execution_count": 56
        }
      ]
    },
    {
      "cell_type": "code",
      "source": [
        "#Another slicing-by-index example:\n",
        "X[0:2 , 0:2]"
      ],
      "metadata": {
        "colab": {
          "base_uri": "https://localhost:8080/"
        },
        "id": "cimmMwmvBddj",
        "outputId": "9ca22029-a7c3-43b9-97d6-37c07eed6e49"
      },
      "execution_count": 57,
      "outputs": [
        {
          "output_type": "execute_result",
          "data": {
            "text/plain": [
              "array([[25,  2],\n",
              "       [ 5, 26]])"
            ]
          },
          "metadata": {},
          "execution_count": 57
        }
      ]
    },
    {
      "cell_type": "code",
      "source": [
        "X[0:2]"
      ],
      "metadata": {
        "colab": {
          "base_uri": "https://localhost:8080/"
        },
        "id": "87oHjXF3BwI8",
        "outputId": "b6838ae2-bb16-4ccb-a133-fadc45de2089"
      },
      "execution_count": 58,
      "outputs": [
        {
          "output_type": "execute_result",
          "data": {
            "text/plain": [
              "array([[25,  2],\n",
              "       [ 5, 26]])"
            ]
          },
          "metadata": {},
          "execution_count": 58
        }
      ]
    },
    {
      "cell_type": "markdown",
      "source": [
        "Matrices in PyTorch"
      ],
      "metadata": {
        "id": "FJb4wbSwDwNX"
      }
    },
    {
      "cell_type": "code",
      "source": [
        "X_pt = torch.tensor([[25,2], [5,26], [3,7]])\n",
        "X_pt"
      ],
      "metadata": {
        "colab": {
          "base_uri": "https://localhost:8080/"
        },
        "id": "-C6d6_reCOMw",
        "outputId": "6d0ec833-28de-4d01-d86a-39861e56bcee"
      },
      "execution_count": 59,
      "outputs": [
        {
          "output_type": "execute_result",
          "data": {
            "text/plain": [
              "tensor([[25,  2],\n",
              "        [ 5, 26],\n",
              "        [ 3,  7]])"
            ]
          },
          "metadata": {},
          "execution_count": 59
        }
      ]
    },
    {
      "cell_type": "code",
      "source": [
        "X_pt.shape"
      ],
      "metadata": {
        "colab": {
          "base_uri": "https://localhost:8080/"
        },
        "id": "xKAk19xsD9Ym",
        "outputId": "e3b2a6fd-5b0a-45cd-a033-0371379ef05e"
      },
      "execution_count": 60,
      "outputs": [
        {
          "output_type": "execute_result",
          "data": {
            "text/plain": [
              "torch.Size([3, 2])"
            ]
          },
          "metadata": {},
          "execution_count": 60
        }
      ]
    },
    {
      "cell_type": "code",
      "source": [
        "X_pt[1,:]"
      ],
      "metadata": {
        "colab": {
          "base_uri": "https://localhost:8080/"
        },
        "id": "dayKUyhkD_K9",
        "outputId": "0a407964-6600-44f7-e11a-5330ce07d0cf"
      },
      "execution_count": 61,
      "outputs": [
        {
          "output_type": "execute_result",
          "data": {
            "text/plain": [
              "tensor([ 5, 26])"
            ]
          },
          "metadata": {},
          "execution_count": 61
        }
      ]
    },
    {
      "cell_type": "markdown",
      "source": [
        "Matrices in TensorFlow"
      ],
      "metadata": {
        "id": "42tFigMEESG3"
      }
    },
    {
      "cell_type": "code",
      "source": [
        "X_tf = tf.Variable([[25,2],[5,26],[3,7]])\n",
        "X_tf"
      ],
      "metadata": {
        "colab": {
          "base_uri": "https://localhost:8080/"
        },
        "id": "RilP6sOwEFF8",
        "outputId": "7e7e49e3-bb10-46e0-bc79-f902f20dae9d"
      },
      "execution_count": 62,
      "outputs": [
        {
          "output_type": "execute_result",
          "data": {
            "text/plain": [
              "<tf.Variable 'Variable:0' shape=(3, 2) dtype=int32, numpy=\n",
              "array([[25,  2],\n",
              "       [ 5, 26],\n",
              "       [ 3,  7]], dtype=int32)>"
            ]
          },
          "metadata": {},
          "execution_count": 62
        }
      ]
    },
    {
      "cell_type": "code",
      "source": [
        "tf.rank(X_tf) #Numpy = 2 means Rank 2"
      ],
      "metadata": {
        "colab": {
          "base_uri": "https://localhost:8080/"
        },
        "id": "nH1Zp5JFEafM",
        "outputId": "ec690ee2-7f2b-41c3-97a6-afe0dc6e6915"
      },
      "execution_count": 63,
      "outputs": [
        {
          "output_type": "execute_result",
          "data": {
            "text/plain": [
              "<tf.Tensor: shape=(), dtype=int32, numpy=2>"
            ]
          },
          "metadata": {},
          "execution_count": 63
        }
      ]
    },
    {
      "cell_type": "code",
      "source": [
        "tf.shape(X_tf)"
      ],
      "metadata": {
        "colab": {
          "base_uri": "https://localhost:8080/"
        },
        "id": "L_GlPmEcEiIC",
        "outputId": "8b8d622a-96f1-4f6b-9d77-bf83356df909"
      },
      "execution_count": 64,
      "outputs": [
        {
          "output_type": "execute_result",
          "data": {
            "text/plain": [
              "<tf.Tensor: shape=(2,), dtype=int32, numpy=array([3, 2], dtype=int32)>"
            ]
          },
          "metadata": {},
          "execution_count": 64
        }
      ]
    },
    {
      "cell_type": "code",
      "source": [
        "X_tf[1,:]"
      ],
      "metadata": {
        "colab": {
          "base_uri": "https://localhost:8080/"
        },
        "id": "Ah5mW1mrEp0q",
        "outputId": "aa6a8634-5df2-4599-9382-1967e69b08aa"
      },
      "execution_count": 65,
      "outputs": [
        {
          "output_type": "execute_result",
          "data": {
            "text/plain": [
              "<tf.Tensor: shape=(2,), dtype=int32, numpy=array([ 5, 26], dtype=int32)>"
            ]
          },
          "metadata": {},
          "execution_count": 65
        }
      ]
    },
    {
      "cell_type": "markdown",
      "source": [
        "## Higher-Rank Tensors\n",
        "- Rank 4 tensors are common for images, where each dimension corresponds to:\n",
        "1. Number of images in training batch, e.g. ,32\n",
        "2. Image height in pixels, e.g., 28 for MNIST digits\n",
        "3. Image width in pixel, e.g.,28\n",
        "4. Number of color channehls, e.g, 3 for full-color images (RGB)"
      ],
      "metadata": {
        "id": "psovsQTDG6Sv"
      }
    },
    {
      "cell_type": "code",
      "source": [
        "#Pytorch\n",
        "images_pt = torch.zeros([32,28,28,3])\n",
        "images_pt"
      ],
      "metadata": {
        "id": "Sh2W32EQE2Io",
        "colab": {
          "base_uri": "https://localhost:8080/"
        },
        "outputId": "69a3a4bc-523f-4307-9944-92099313d88b"
      },
      "execution_count": 67,
      "outputs": [
        {
          "output_type": "execute_result",
          "data": {
            "text/plain": [
              "tensor([[[[0., 0., 0.],\n",
              "          [0., 0., 0.],\n",
              "          [0., 0., 0.],\n",
              "          ...,\n",
              "          [0., 0., 0.],\n",
              "          [0., 0., 0.],\n",
              "          [0., 0., 0.]],\n",
              "\n",
              "         [[0., 0., 0.],\n",
              "          [0., 0., 0.],\n",
              "          [0., 0., 0.],\n",
              "          ...,\n",
              "          [0., 0., 0.],\n",
              "          [0., 0., 0.],\n",
              "          [0., 0., 0.]],\n",
              "\n",
              "         [[0., 0., 0.],\n",
              "          [0., 0., 0.],\n",
              "          [0., 0., 0.],\n",
              "          ...,\n",
              "          [0., 0., 0.],\n",
              "          [0., 0., 0.],\n",
              "          [0., 0., 0.]],\n",
              "\n",
              "         ...,\n",
              "\n",
              "         [[0., 0., 0.],\n",
              "          [0., 0., 0.],\n",
              "          [0., 0., 0.],\n",
              "          ...,\n",
              "          [0., 0., 0.],\n",
              "          [0., 0., 0.],\n",
              "          [0., 0., 0.]],\n",
              "\n",
              "         [[0., 0., 0.],\n",
              "          [0., 0., 0.],\n",
              "          [0., 0., 0.],\n",
              "          ...,\n",
              "          [0., 0., 0.],\n",
              "          [0., 0., 0.],\n",
              "          [0., 0., 0.]],\n",
              "\n",
              "         [[0., 0., 0.],\n",
              "          [0., 0., 0.],\n",
              "          [0., 0., 0.],\n",
              "          ...,\n",
              "          [0., 0., 0.],\n",
              "          [0., 0., 0.],\n",
              "          [0., 0., 0.]]],\n",
              "\n",
              "\n",
              "        [[[0., 0., 0.],\n",
              "          [0., 0., 0.],\n",
              "          [0., 0., 0.],\n",
              "          ...,\n",
              "          [0., 0., 0.],\n",
              "          [0., 0., 0.],\n",
              "          [0., 0., 0.]],\n",
              "\n",
              "         [[0., 0., 0.],\n",
              "          [0., 0., 0.],\n",
              "          [0., 0., 0.],\n",
              "          ...,\n",
              "          [0., 0., 0.],\n",
              "          [0., 0., 0.],\n",
              "          [0., 0., 0.]],\n",
              "\n",
              "         [[0., 0., 0.],\n",
              "          [0., 0., 0.],\n",
              "          [0., 0., 0.],\n",
              "          ...,\n",
              "          [0., 0., 0.],\n",
              "          [0., 0., 0.],\n",
              "          [0., 0., 0.]],\n",
              "\n",
              "         ...,\n",
              "\n",
              "         [[0., 0., 0.],\n",
              "          [0., 0., 0.],\n",
              "          [0., 0., 0.],\n",
              "          ...,\n",
              "          [0., 0., 0.],\n",
              "          [0., 0., 0.],\n",
              "          [0., 0., 0.]],\n",
              "\n",
              "         [[0., 0., 0.],\n",
              "          [0., 0., 0.],\n",
              "          [0., 0., 0.],\n",
              "          ...,\n",
              "          [0., 0., 0.],\n",
              "          [0., 0., 0.],\n",
              "          [0., 0., 0.]],\n",
              "\n",
              "         [[0., 0., 0.],\n",
              "          [0., 0., 0.],\n",
              "          [0., 0., 0.],\n",
              "          ...,\n",
              "          [0., 0., 0.],\n",
              "          [0., 0., 0.],\n",
              "          [0., 0., 0.]]],\n",
              "\n",
              "\n",
              "        [[[0., 0., 0.],\n",
              "          [0., 0., 0.],\n",
              "          [0., 0., 0.],\n",
              "          ...,\n",
              "          [0., 0., 0.],\n",
              "          [0., 0., 0.],\n",
              "          [0., 0., 0.]],\n",
              "\n",
              "         [[0., 0., 0.],\n",
              "          [0., 0., 0.],\n",
              "          [0., 0., 0.],\n",
              "          ...,\n",
              "          [0., 0., 0.],\n",
              "          [0., 0., 0.],\n",
              "          [0., 0., 0.]],\n",
              "\n",
              "         [[0., 0., 0.],\n",
              "          [0., 0., 0.],\n",
              "          [0., 0., 0.],\n",
              "          ...,\n",
              "          [0., 0., 0.],\n",
              "          [0., 0., 0.],\n",
              "          [0., 0., 0.]],\n",
              "\n",
              "         ...,\n",
              "\n",
              "         [[0., 0., 0.],\n",
              "          [0., 0., 0.],\n",
              "          [0., 0., 0.],\n",
              "          ...,\n",
              "          [0., 0., 0.],\n",
              "          [0., 0., 0.],\n",
              "          [0., 0., 0.]],\n",
              "\n",
              "         [[0., 0., 0.],\n",
              "          [0., 0., 0.],\n",
              "          [0., 0., 0.],\n",
              "          ...,\n",
              "          [0., 0., 0.],\n",
              "          [0., 0., 0.],\n",
              "          [0., 0., 0.]],\n",
              "\n",
              "         [[0., 0., 0.],\n",
              "          [0., 0., 0.],\n",
              "          [0., 0., 0.],\n",
              "          ...,\n",
              "          [0., 0., 0.],\n",
              "          [0., 0., 0.],\n",
              "          [0., 0., 0.]]],\n",
              "\n",
              "\n",
              "        ...,\n",
              "\n",
              "\n",
              "        [[[0., 0., 0.],\n",
              "          [0., 0., 0.],\n",
              "          [0., 0., 0.],\n",
              "          ...,\n",
              "          [0., 0., 0.],\n",
              "          [0., 0., 0.],\n",
              "          [0., 0., 0.]],\n",
              "\n",
              "         [[0., 0., 0.],\n",
              "          [0., 0., 0.],\n",
              "          [0., 0., 0.],\n",
              "          ...,\n",
              "          [0., 0., 0.],\n",
              "          [0., 0., 0.],\n",
              "          [0., 0., 0.]],\n",
              "\n",
              "         [[0., 0., 0.],\n",
              "          [0., 0., 0.],\n",
              "          [0., 0., 0.],\n",
              "          ...,\n",
              "          [0., 0., 0.],\n",
              "          [0., 0., 0.],\n",
              "          [0., 0., 0.]],\n",
              "\n",
              "         ...,\n",
              "\n",
              "         [[0., 0., 0.],\n",
              "          [0., 0., 0.],\n",
              "          [0., 0., 0.],\n",
              "          ...,\n",
              "          [0., 0., 0.],\n",
              "          [0., 0., 0.],\n",
              "          [0., 0., 0.]],\n",
              "\n",
              "         [[0., 0., 0.],\n",
              "          [0., 0., 0.],\n",
              "          [0., 0., 0.],\n",
              "          ...,\n",
              "          [0., 0., 0.],\n",
              "          [0., 0., 0.],\n",
              "          [0., 0., 0.]],\n",
              "\n",
              "         [[0., 0., 0.],\n",
              "          [0., 0., 0.],\n",
              "          [0., 0., 0.],\n",
              "          ...,\n",
              "          [0., 0., 0.],\n",
              "          [0., 0., 0.],\n",
              "          [0., 0., 0.]]],\n",
              "\n",
              "\n",
              "        [[[0., 0., 0.],\n",
              "          [0., 0., 0.],\n",
              "          [0., 0., 0.],\n",
              "          ...,\n",
              "          [0., 0., 0.],\n",
              "          [0., 0., 0.],\n",
              "          [0., 0., 0.]],\n",
              "\n",
              "         [[0., 0., 0.],\n",
              "          [0., 0., 0.],\n",
              "          [0., 0., 0.],\n",
              "          ...,\n",
              "          [0., 0., 0.],\n",
              "          [0., 0., 0.],\n",
              "          [0., 0., 0.]],\n",
              "\n",
              "         [[0., 0., 0.],\n",
              "          [0., 0., 0.],\n",
              "          [0., 0., 0.],\n",
              "          ...,\n",
              "          [0., 0., 0.],\n",
              "          [0., 0., 0.],\n",
              "          [0., 0., 0.]],\n",
              "\n",
              "         ...,\n",
              "\n",
              "         [[0., 0., 0.],\n",
              "          [0., 0., 0.],\n",
              "          [0., 0., 0.],\n",
              "          ...,\n",
              "          [0., 0., 0.],\n",
              "          [0., 0., 0.],\n",
              "          [0., 0., 0.]],\n",
              "\n",
              "         [[0., 0., 0.],\n",
              "          [0., 0., 0.],\n",
              "          [0., 0., 0.],\n",
              "          ...,\n",
              "          [0., 0., 0.],\n",
              "          [0., 0., 0.],\n",
              "          [0., 0., 0.]],\n",
              "\n",
              "         [[0., 0., 0.],\n",
              "          [0., 0., 0.],\n",
              "          [0., 0., 0.],\n",
              "          ...,\n",
              "          [0., 0., 0.],\n",
              "          [0., 0., 0.],\n",
              "          [0., 0., 0.]]],\n",
              "\n",
              "\n",
              "        [[[0., 0., 0.],\n",
              "          [0., 0., 0.],\n",
              "          [0., 0., 0.],\n",
              "          ...,\n",
              "          [0., 0., 0.],\n",
              "          [0., 0., 0.],\n",
              "          [0., 0., 0.]],\n",
              "\n",
              "         [[0., 0., 0.],\n",
              "          [0., 0., 0.],\n",
              "          [0., 0., 0.],\n",
              "          ...,\n",
              "          [0., 0., 0.],\n",
              "          [0., 0., 0.],\n",
              "          [0., 0., 0.]],\n",
              "\n",
              "         [[0., 0., 0.],\n",
              "          [0., 0., 0.],\n",
              "          [0., 0., 0.],\n",
              "          ...,\n",
              "          [0., 0., 0.],\n",
              "          [0., 0., 0.],\n",
              "          [0., 0., 0.]],\n",
              "\n",
              "         ...,\n",
              "\n",
              "         [[0., 0., 0.],\n",
              "          [0., 0., 0.],\n",
              "          [0., 0., 0.],\n",
              "          ...,\n",
              "          [0., 0., 0.],\n",
              "          [0., 0., 0.],\n",
              "          [0., 0., 0.]],\n",
              "\n",
              "         [[0., 0., 0.],\n",
              "          [0., 0., 0.],\n",
              "          [0., 0., 0.],\n",
              "          ...,\n",
              "          [0., 0., 0.],\n",
              "          [0., 0., 0.],\n",
              "          [0., 0., 0.]],\n",
              "\n",
              "         [[0., 0., 0.],\n",
              "          [0., 0., 0.],\n",
              "          [0., 0., 0.],\n",
              "          ...,\n",
              "          [0., 0., 0.],\n",
              "          [0., 0., 0.],\n",
              "          [0., 0., 0.]]]])"
            ]
          },
          "metadata": {},
          "execution_count": 67
        }
      ]
    },
    {
      "cell_type": "code",
      "source": [
        "images_tf = tf.zeros([32,28,28,3])\n",
        "images_tf"
      ],
      "metadata": {
        "colab": {
          "base_uri": "https://localhost:8080/"
        },
        "id": "LTJ58eAZHkvD",
        "outputId": "66dfc126-3238-4766-f2d7-d38c04163e68"
      },
      "execution_count": 69,
      "outputs": [
        {
          "output_type": "execute_result",
          "data": {
            "text/plain": [
              "<tf.Tensor: shape=(32, 28, 28, 3), dtype=float32, numpy=\n",
              "array([[[[0., 0., 0.],\n",
              "         [0., 0., 0.],\n",
              "         [0., 0., 0.],\n",
              "         ...,\n",
              "         [0., 0., 0.],\n",
              "         [0., 0., 0.],\n",
              "         [0., 0., 0.]],\n",
              "\n",
              "        [[0., 0., 0.],\n",
              "         [0., 0., 0.],\n",
              "         [0., 0., 0.],\n",
              "         ...,\n",
              "         [0., 0., 0.],\n",
              "         [0., 0., 0.],\n",
              "         [0., 0., 0.]],\n",
              "\n",
              "        [[0., 0., 0.],\n",
              "         [0., 0., 0.],\n",
              "         [0., 0., 0.],\n",
              "         ...,\n",
              "         [0., 0., 0.],\n",
              "         [0., 0., 0.],\n",
              "         [0., 0., 0.]],\n",
              "\n",
              "        ...,\n",
              "\n",
              "        [[0., 0., 0.],\n",
              "         [0., 0., 0.],\n",
              "         [0., 0., 0.],\n",
              "         ...,\n",
              "         [0., 0., 0.],\n",
              "         [0., 0., 0.],\n",
              "         [0., 0., 0.]],\n",
              "\n",
              "        [[0., 0., 0.],\n",
              "         [0., 0., 0.],\n",
              "         [0., 0., 0.],\n",
              "         ...,\n",
              "         [0., 0., 0.],\n",
              "         [0., 0., 0.],\n",
              "         [0., 0., 0.]],\n",
              "\n",
              "        [[0., 0., 0.],\n",
              "         [0., 0., 0.],\n",
              "         [0., 0., 0.],\n",
              "         ...,\n",
              "         [0., 0., 0.],\n",
              "         [0., 0., 0.],\n",
              "         [0., 0., 0.]]],\n",
              "\n",
              "\n",
              "       [[[0., 0., 0.],\n",
              "         [0., 0., 0.],\n",
              "         [0., 0., 0.],\n",
              "         ...,\n",
              "         [0., 0., 0.],\n",
              "         [0., 0., 0.],\n",
              "         [0., 0., 0.]],\n",
              "\n",
              "        [[0., 0., 0.],\n",
              "         [0., 0., 0.],\n",
              "         [0., 0., 0.],\n",
              "         ...,\n",
              "         [0., 0., 0.],\n",
              "         [0., 0., 0.],\n",
              "         [0., 0., 0.]],\n",
              "\n",
              "        [[0., 0., 0.],\n",
              "         [0., 0., 0.],\n",
              "         [0., 0., 0.],\n",
              "         ...,\n",
              "         [0., 0., 0.],\n",
              "         [0., 0., 0.],\n",
              "         [0., 0., 0.]],\n",
              "\n",
              "        ...,\n",
              "\n",
              "        [[0., 0., 0.],\n",
              "         [0., 0., 0.],\n",
              "         [0., 0., 0.],\n",
              "         ...,\n",
              "         [0., 0., 0.],\n",
              "         [0., 0., 0.],\n",
              "         [0., 0., 0.]],\n",
              "\n",
              "        [[0., 0., 0.],\n",
              "         [0., 0., 0.],\n",
              "         [0., 0., 0.],\n",
              "         ...,\n",
              "         [0., 0., 0.],\n",
              "         [0., 0., 0.],\n",
              "         [0., 0., 0.]],\n",
              "\n",
              "        [[0., 0., 0.],\n",
              "         [0., 0., 0.],\n",
              "         [0., 0., 0.],\n",
              "         ...,\n",
              "         [0., 0., 0.],\n",
              "         [0., 0., 0.],\n",
              "         [0., 0., 0.]]],\n",
              "\n",
              "\n",
              "       [[[0., 0., 0.],\n",
              "         [0., 0., 0.],\n",
              "         [0., 0., 0.],\n",
              "         ...,\n",
              "         [0., 0., 0.],\n",
              "         [0., 0., 0.],\n",
              "         [0., 0., 0.]],\n",
              "\n",
              "        [[0., 0., 0.],\n",
              "         [0., 0., 0.],\n",
              "         [0., 0., 0.],\n",
              "         ...,\n",
              "         [0., 0., 0.],\n",
              "         [0., 0., 0.],\n",
              "         [0., 0., 0.]],\n",
              "\n",
              "        [[0., 0., 0.],\n",
              "         [0., 0., 0.],\n",
              "         [0., 0., 0.],\n",
              "         ...,\n",
              "         [0., 0., 0.],\n",
              "         [0., 0., 0.],\n",
              "         [0., 0., 0.]],\n",
              "\n",
              "        ...,\n",
              "\n",
              "        [[0., 0., 0.],\n",
              "         [0., 0., 0.],\n",
              "         [0., 0., 0.],\n",
              "         ...,\n",
              "         [0., 0., 0.],\n",
              "         [0., 0., 0.],\n",
              "         [0., 0., 0.]],\n",
              "\n",
              "        [[0., 0., 0.],\n",
              "         [0., 0., 0.],\n",
              "         [0., 0., 0.],\n",
              "         ...,\n",
              "         [0., 0., 0.],\n",
              "         [0., 0., 0.],\n",
              "         [0., 0., 0.]],\n",
              "\n",
              "        [[0., 0., 0.],\n",
              "         [0., 0., 0.],\n",
              "         [0., 0., 0.],\n",
              "         ...,\n",
              "         [0., 0., 0.],\n",
              "         [0., 0., 0.],\n",
              "         [0., 0., 0.]]],\n",
              "\n",
              "\n",
              "       ...,\n",
              "\n",
              "\n",
              "       [[[0., 0., 0.],\n",
              "         [0., 0., 0.],\n",
              "         [0., 0., 0.],\n",
              "         ...,\n",
              "         [0., 0., 0.],\n",
              "         [0., 0., 0.],\n",
              "         [0., 0., 0.]],\n",
              "\n",
              "        [[0., 0., 0.],\n",
              "         [0., 0., 0.],\n",
              "         [0., 0., 0.],\n",
              "         ...,\n",
              "         [0., 0., 0.],\n",
              "         [0., 0., 0.],\n",
              "         [0., 0., 0.]],\n",
              "\n",
              "        [[0., 0., 0.],\n",
              "         [0., 0., 0.],\n",
              "         [0., 0., 0.],\n",
              "         ...,\n",
              "         [0., 0., 0.],\n",
              "         [0., 0., 0.],\n",
              "         [0., 0., 0.]],\n",
              "\n",
              "        ...,\n",
              "\n",
              "        [[0., 0., 0.],\n",
              "         [0., 0., 0.],\n",
              "         [0., 0., 0.],\n",
              "         ...,\n",
              "         [0., 0., 0.],\n",
              "         [0., 0., 0.],\n",
              "         [0., 0., 0.]],\n",
              "\n",
              "        [[0., 0., 0.],\n",
              "         [0., 0., 0.],\n",
              "         [0., 0., 0.],\n",
              "         ...,\n",
              "         [0., 0., 0.],\n",
              "         [0., 0., 0.],\n",
              "         [0., 0., 0.]],\n",
              "\n",
              "        [[0., 0., 0.],\n",
              "         [0., 0., 0.],\n",
              "         [0., 0., 0.],\n",
              "         ...,\n",
              "         [0., 0., 0.],\n",
              "         [0., 0., 0.],\n",
              "         [0., 0., 0.]]],\n",
              "\n",
              "\n",
              "       [[[0., 0., 0.],\n",
              "         [0., 0., 0.],\n",
              "         [0., 0., 0.],\n",
              "         ...,\n",
              "         [0., 0., 0.],\n",
              "         [0., 0., 0.],\n",
              "         [0., 0., 0.]],\n",
              "\n",
              "        [[0., 0., 0.],\n",
              "         [0., 0., 0.],\n",
              "         [0., 0., 0.],\n",
              "         ...,\n",
              "         [0., 0., 0.],\n",
              "         [0., 0., 0.],\n",
              "         [0., 0., 0.]],\n",
              "\n",
              "        [[0., 0., 0.],\n",
              "         [0., 0., 0.],\n",
              "         [0., 0., 0.],\n",
              "         ...,\n",
              "         [0., 0., 0.],\n",
              "         [0., 0., 0.],\n",
              "         [0., 0., 0.]],\n",
              "\n",
              "        ...,\n",
              "\n",
              "        [[0., 0., 0.],\n",
              "         [0., 0., 0.],\n",
              "         [0., 0., 0.],\n",
              "         ...,\n",
              "         [0., 0., 0.],\n",
              "         [0., 0., 0.],\n",
              "         [0., 0., 0.]],\n",
              "\n",
              "        [[0., 0., 0.],\n",
              "         [0., 0., 0.],\n",
              "         [0., 0., 0.],\n",
              "         ...,\n",
              "         [0., 0., 0.],\n",
              "         [0., 0., 0.],\n",
              "         [0., 0., 0.]],\n",
              "\n",
              "        [[0., 0., 0.],\n",
              "         [0., 0., 0.],\n",
              "         [0., 0., 0.],\n",
              "         ...,\n",
              "         [0., 0., 0.],\n",
              "         [0., 0., 0.],\n",
              "         [0., 0., 0.]]],\n",
              "\n",
              "\n",
              "       [[[0., 0., 0.],\n",
              "         [0., 0., 0.],\n",
              "         [0., 0., 0.],\n",
              "         ...,\n",
              "         [0., 0., 0.],\n",
              "         [0., 0., 0.],\n",
              "         [0., 0., 0.]],\n",
              "\n",
              "        [[0., 0., 0.],\n",
              "         [0., 0., 0.],\n",
              "         [0., 0., 0.],\n",
              "         ...,\n",
              "         [0., 0., 0.],\n",
              "         [0., 0., 0.],\n",
              "         [0., 0., 0.]],\n",
              "\n",
              "        [[0., 0., 0.],\n",
              "         [0., 0., 0.],\n",
              "         [0., 0., 0.],\n",
              "         ...,\n",
              "         [0., 0., 0.],\n",
              "         [0., 0., 0.],\n",
              "         [0., 0., 0.]],\n",
              "\n",
              "        ...,\n",
              "\n",
              "        [[0., 0., 0.],\n",
              "         [0., 0., 0.],\n",
              "         [0., 0., 0.],\n",
              "         ...,\n",
              "         [0., 0., 0.],\n",
              "         [0., 0., 0.],\n",
              "         [0., 0., 0.]],\n",
              "\n",
              "        [[0., 0., 0.],\n",
              "         [0., 0., 0.],\n",
              "         [0., 0., 0.],\n",
              "         ...,\n",
              "         [0., 0., 0.],\n",
              "         [0., 0., 0.],\n",
              "         [0., 0., 0.]],\n",
              "\n",
              "        [[0., 0., 0.],\n",
              "         [0., 0., 0.],\n",
              "         [0., 0., 0.],\n",
              "         ...,\n",
              "         [0., 0., 0.],\n",
              "         [0., 0., 0.],\n",
              "         [0., 0., 0.]]]], dtype=float32)>"
            ]
          },
          "metadata": {},
          "execution_count": 69
        }
      ]
    },
    {
      "cell_type": "code",
      "source": [],
      "metadata": {
        "id": "_5I92hhs4KKY"
      },
      "execution_count": null,
      "outputs": []
    }
  ]
}